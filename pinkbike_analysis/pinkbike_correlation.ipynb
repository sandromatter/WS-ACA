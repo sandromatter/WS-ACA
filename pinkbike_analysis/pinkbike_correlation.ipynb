{
 "cells": [
  {
   "cell_type": "markdown",
   "id": "a1a30853",
   "metadata": {},
   "source": [
    "# Data Visualization"
   ]
  },
  {
   "cell_type": "markdown",
   "id": "a25b96ec",
   "metadata": {},
   "source": [
    "## Import and setup"
   ]
  },
  {
   "cell_type": "code",
   "execution_count": 1,
   "id": "aa929fc6",
   "metadata": {},
   "outputs": [],
   "source": [
    "# Pandas is used for data manipulation\n",
    "import numpy as np\n",
    "import pandas as pd\n",
    "import matplotlib.pyplot as plt\n",
    "import seaborn as sns\n",
    "import pickle\n",
    "import string\n",
    "import random\n",
    "\n",
    "pd.options.mode.chained_assignment = None  # default='warn'\n",
    "\n",
    "# NLTK tokenization, stopword removal and vader \n",
    "import nltk"
   ]
  },
  {
   "cell_type": "markdown",
   "id": "075ef04b",
   "metadata": {},
   "source": [
    "----"
   ]
  },
  {
   "cell_type": "markdown",
   "id": "7ae3cc3c",
   "metadata": {},
   "source": [
    "## Get results of 2020"
   ]
  },
  {
   "cell_type": "markdown",
   "id": "8e08f0e5",
   "metadata": {},
   "source": [
    "### Open .pkl file of sentiment analysis"
   ]
  },
  {
   "cell_type": "code",
   "execution_count": 2,
   "id": "386b3464",
   "metadata": {},
   "outputs": [
    {
     "data": {
      "text/plain": [
       "128505"
      ]
     },
     "execution_count": 2,
     "metadata": {},
     "output_type": "execute_result"
    }
   ],
   "source": [
    "with open('src/2020_clean_pinkbike_comments.pkl', 'rb') as pickle_file:\n",
    "    df = pickle.load(pickle_file)\n",
    "len(df.index)"
   ]
  },
  {
   "cell_type": "markdown",
   "id": "e1f132a7",
   "metadata": {},
   "source": [
    "#### Show ratio of positiv to negative comments of N"
   ]
  },
  {
   "cell_type": "code",
   "execution_count": 3,
   "id": "353cd3f5",
   "metadata": {},
   "outputs": [
    {
     "data": {
      "image/png": "[encoded data removed]",
      "text/plain": [
       "<Figure size 432x288 with 1 Axes>"
      ]
     },
     "metadata": {
      "needs_background": "light"
     },
     "output_type": "display_data"
    }
   ],
   "source": [
    "result = df['sentiment'].value_counts()\n",
    "result.plot(kind = 'bar', rot = 0, color = ['blue','cyan']);"
   ]
  },
  {
   "cell_type": "markdown",
   "id": "2a1571ad",
   "metadata": {},
   "source": [
    "### Pearson correlation coefficient top 25:\n",
    "#### between sentiment analysis mean compound and beat participants in races"
   ]
  },
  {
   "cell_type": "code",
   "execution_count": 4,
   "id": "acc0f111",
   "metadata": {},
   "outputs": [],
   "source": [
    "rider_top_25_2020 = [\n",
    "    [\"Matt\", \"Walker\", \"\"], \n",
    "    [\"Loic\", \"Bruni\", \"Superbruni\"],\n",
    "    [\"Greg\", \"Minnaar\", \"\"],\n",
    "    [\"Loris\", \"Vergier\", \"\"],\n",
    "    [\"Thibaut\", \"Daprela\", \"\"],\n",
    "    [\"Troy\", \"Brosnan\", \"\"],\n",
    "    [\"Angel\", \"Suarez Alonso\", \"Angel\"],\n",
    "    [\"Remi\", \"Thirion\", \"\"],\n",
    "    [\"Aaron\", \"Gwin\", \"\"],\n",
    "    [\"Luca\", \"Shaw\", \"\"],\n",
    "    [\"Jamie\", \"Edmondson\", \"\"],\n",
    "    [\"David\", \"Trummer\", \"\"],\n",
    "    [\"Finn\", \"Iles\", \"\"],\n",
    "    [\"Philip\", \"Atwill\", \"\"],\n",
    "    [\"Dakotah\", \"Norton\", \"\"],\n",
    "    [\"Martin\", \"Maes\", \"\"],\n",
    "    [\"Benoit\", \"Coulanges\", \"\"],\n",
    "    [\"Baptiste\", \"Pierron\", \"Baptiste Pierron\"],\n",
    "    [\"Danny\", \"Hart\", \"Redcar Rocket\"],\n",
    "    [\"Loris\", \"Revelli\", \"\"],\n",
    "    [\"Andreas\", \"Kolb\", \"\"],\n",
    "    [\"Joe\", \"Breeden\", \"\"],\n",
    "    [\"Jack\", \"Moir\", \"Shark Attack Jack\"],\n",
    "    [\"Bernard\", \"Kerr\", \"\"],\n",
    "    [\"Charlie\", \"Hatton\", \"\"]\n",
    "]"
   ]
  },
  {
   "cell_type": "markdown",
   "id": "1ed24ab4",
   "metadata": {},
   "source": [
    "#### Create df with mean compound and mean of riders beat for analysis"
   ]
  },
  {
   "cell_type": "code",
   "execution_count": 5,
   "id": "fca97593",
   "metadata": {},
   "outputs": [],
   "source": [
    "rider_sentiment_dict_list = []\n",
    "\n",
    "def analyse_data(first_name, last_name, nick_name):\n",
    "\n",
    "    rider_filter = [last_name, nick_name]\n",
    "    if nick_name == \"\":\n",
    "        rider_filter_regex = last_name\n",
    "    else:\n",
    "        rider_filter_regex = '|'.join(rider_filter)\n",
    "\n",
    "    df_sentiment = df.loc[df['comments'].str.contains(rider_filter_regex, case = False, regex = True)]\n",
    "\n",
    "    full_name = first_name + \" \" + last_name\n",
    "    sample_size = len(df_sentiment.index)\n",
    "    mean_compound = df_sentiment[\"compound\"].mean()\n",
    "\n",
    "    rider_sentiment_dict = {\n",
    "        \"rider name\": full_name,\n",
    "        \"sentiment sample size\": sample_size,\n",
    "        \"sentiment mean compound\": mean_compound\n",
    "    }\n",
    "\n",
    "    rider_sentiment_dict_list.append(rider_sentiment_dict)\n",
    "\n",
    "for rider in rider_top_25_2020:\n",
    "    analyse_data(rider[0],rider[1],rider[2])\n",
    "    \n",
    "df_top_25_2020 = pd.DataFrame(rider_sentiment_dict_list)"
   ]
  },
  {
   "cell_type": "code",
   "execution_count": 6,
   "id": "de8f938d",
   "metadata": {},
   "outputs": [],
   "source": [
    "df_result = pd.read_csv('src/2020_results.csv')\n",
    "df_result.columns = ['rider name', 'mean of riders beat']"
   ]
  },
  {
   "cell_type": "code",
   "execution_count": 7,
   "id": "57fce8e9",
   "metadata": {
    "scrolled": true
   },
   "outputs": [
    {
     "data": {
      "text/html": [
       "<div>\n",
       "<style scoped>\n",
       "    .dataframe tbody tr th:only-of-type {\n",
       "        vertical-align: middle;\n",
       "    }\n",
       "\n",
       "    .dataframe tbody tr th {\n",
       "        vertical-align: top;\n",
       "    }\n",
       "\n",
       "    .dataframe thead th {\n",
       "        text-align: right;\n",
       "    }\n",
       "</style>\n",
       "<table border=\"1\" class=\"dataframe\">\n",
       "  <thead>\n",
       "    <tr style=\"text-align: right;\">\n",
       "      <th></th>\n",
       "      <th>rider name</th>\n",
       "      <th>sentiment sample size</th>\n",
       "      <th>sentiment mean compound</th>\n",
       "      <th>mean of riders beat</th>\n",
       "    </tr>\n",
       "  </thead>\n",
       "  <tbody>\n",
       "    <tr>\n",
       "      <th>0</th>\n",
       "      <td>Matt Walker</td>\n",
       "      <td>103</td>\n",
       "      <td>0.255019</td>\n",
       "      <td>94.800000</td>\n",
       "    </tr>\n",
       "    <tr>\n",
       "      <th>1</th>\n",
       "      <td>Loic Bruni</td>\n",
       "      <td>171</td>\n",
       "      <td>0.333219</td>\n",
       "      <td>81.600000</td>\n",
       "    </tr>\n",
       "    <tr>\n",
       "      <th>2</th>\n",
       "      <td>Greg Minnaar</td>\n",
       "      <td>146</td>\n",
       "      <td>0.387250</td>\n",
       "      <td>91.200000</td>\n",
       "    </tr>\n",
       "    <tr>\n",
       "      <th>3</th>\n",
       "      <td>Loris Vergier</td>\n",
       "      <td>51</td>\n",
       "      <td>0.383986</td>\n",
       "      <td>79.000000</td>\n",
       "    </tr>\n",
       "    <tr>\n",
       "      <th>4</th>\n",
       "      <td>Thibaut Daprela</td>\n",
       "      <td>15</td>\n",
       "      <td>0.358360</td>\n",
       "      <td>92.400000</td>\n",
       "    </tr>\n",
       "    <tr>\n",
       "      <th>5</th>\n",
       "      <td>Troy Brosnan</td>\n",
       "      <td>44</td>\n",
       "      <td>0.155550</td>\n",
       "      <td>92.600000</td>\n",
       "    </tr>\n",
       "    <tr>\n",
       "      <th>6</th>\n",
       "      <td>Angel Suarez Alonso</td>\n",
       "      <td>106</td>\n",
       "      <td>0.255692</td>\n",
       "      <td>76.400000</td>\n",
       "    </tr>\n",
       "    <tr>\n",
       "      <th>7</th>\n",
       "      <td>Remi Thirion</td>\n",
       "      <td>23</td>\n",
       "      <td>0.347730</td>\n",
       "      <td>83.200000</td>\n",
       "    </tr>\n",
       "    <tr>\n",
       "      <th>8</th>\n",
       "      <td>Aaron Gwin</td>\n",
       "      <td>366</td>\n",
       "      <td>0.326418</td>\n",
       "      <td>77.000000</td>\n",
       "    </tr>\n",
       "    <tr>\n",
       "      <th>9</th>\n",
       "      <td>Luca Shaw</td>\n",
       "      <td>68</td>\n",
       "      <td>0.294226</td>\n",
       "      <td>78.000000</td>\n",
       "    </tr>\n",
       "    <tr>\n",
       "      <th>10</th>\n",
       "      <td>Jamie Edmondson</td>\n",
       "      <td>6</td>\n",
       "      <td>0.212300</td>\n",
       "      <td>77.750000</td>\n",
       "    </tr>\n",
       "    <tr>\n",
       "      <th>11</th>\n",
       "      <td>David Trummer</td>\n",
       "      <td>25</td>\n",
       "      <td>0.241880</td>\n",
       "      <td>86.000000</td>\n",
       "    </tr>\n",
       "    <tr>\n",
       "      <th>12</th>\n",
       "      <td>Finn Iles</td>\n",
       "      <td>626</td>\n",
       "      <td>0.362283</td>\n",
       "      <td>69.400000</td>\n",
       "    </tr>\n",
       "    <tr>\n",
       "      <th>13</th>\n",
       "      <td>Philip Atwill</td>\n",
       "      <td>25</td>\n",
       "      <td>0.245176</td>\n",
       "      <td>77.750000</td>\n",
       "    </tr>\n",
       "    <tr>\n",
       "      <th>14</th>\n",
       "      <td>Dakotah Norton</td>\n",
       "      <td>5</td>\n",
       "      <td>0.076980</td>\n",
       "      <td>66.200000</td>\n",
       "    </tr>\n",
       "    <tr>\n",
       "      <th>15</th>\n",
       "      <td>Martin Maes</td>\n",
       "      <td>112</td>\n",
       "      <td>0.287517</td>\n",
       "      <td>83.500000</td>\n",
       "    </tr>\n",
       "    <tr>\n",
       "      <th>16</th>\n",
       "      <td>Benoit Coulanges</td>\n",
       "      <td>10</td>\n",
       "      <td>0.178890</td>\n",
       "      <td>83.000000</td>\n",
       "    </tr>\n",
       "    <tr>\n",
       "      <th>17</th>\n",
       "      <td>Baptiste Pierron</td>\n",
       "      <td>98</td>\n",
       "      <td>0.384281</td>\n",
       "      <td>80.400000</td>\n",
       "    </tr>\n",
       "    <tr>\n",
       "      <th>18</th>\n",
       "      <td>Danny Hart</td>\n",
       "      <td>318</td>\n",
       "      <td>0.270860</td>\n",
       "      <td>50.333333</td>\n",
       "    </tr>\n",
       "    <tr>\n",
       "      <th>19</th>\n",
       "      <td>Loris Revelli</td>\n",
       "      <td>0</td>\n",
       "      <td>NaN</td>\n",
       "      <td>72.400000</td>\n",
       "    </tr>\n",
       "    <tr>\n",
       "      <th>20</th>\n",
       "      <td>Andreas Kolb</td>\n",
       "      <td>3</td>\n",
       "      <td>0.290233</td>\n",
       "      <td>70.600000</td>\n",
       "    </tr>\n",
       "    <tr>\n",
       "      <th>21</th>\n",
       "      <td>Joe Breeden</td>\n",
       "      <td>7</td>\n",
       "      <td>0.254329</td>\n",
       "      <td>69.750000</td>\n",
       "    </tr>\n",
       "    <tr>\n",
       "      <th>22</th>\n",
       "      <td>Jack Moir</td>\n",
       "      <td>62</td>\n",
       "      <td>0.220487</td>\n",
       "      <td>90.666667</td>\n",
       "    </tr>\n",
       "    <tr>\n",
       "      <th>23</th>\n",
       "      <td>Bernard Kerr</td>\n",
       "      <td>77</td>\n",
       "      <td>0.243296</td>\n",
       "      <td>72.800000</td>\n",
       "    </tr>\n",
       "    <tr>\n",
       "      <th>24</th>\n",
       "      <td>Charlie Hatton</td>\n",
       "      <td>8</td>\n",
       "      <td>0.285737</td>\n",
       "      <td>66.800000</td>\n",
       "    </tr>\n",
       "  </tbody>\n",
       "</table>\n",
       "</div>"
      ],
      "text/plain": [
       "             rider name  sentiment sample size  sentiment mean compound  \\\n",
       "0           Matt Walker                    103                 0.255019   \n",
       "1            Loic Bruni                    171                 0.333219   \n",
       "2          Greg Minnaar                    146                 0.387250   \n",
       "3         Loris Vergier                     51                 0.383986   \n",
       "4       Thibaut Daprela                     15                 0.358360   \n",
       "5          Troy Brosnan                     44                 0.155550   \n",
       "6   Angel Suarez Alonso                    106                 0.255692   \n",
       "7          Remi Thirion                     23                 0.347730   \n",
       "8            Aaron Gwin                    366                 0.326418   \n",
       "9             Luca Shaw                     68                 0.294226   \n",
       "10      Jamie Edmondson                      6                 0.212300   \n",
       "11        David Trummer                     25                 0.241880   \n",
       "12            Finn Iles                    626                 0.362283   \n",
       "13        Philip Atwill                     25                 0.245176   \n",
       "14       Dakotah Norton                      5                 0.076980   \n",
       "15          Martin Maes                    112                 0.287517   \n",
       "16     Benoit Coulanges                     10                 0.178890   \n",
       "17     Baptiste Pierron                     98                 0.384281   \n",
       "18           Danny Hart                    318                 0.270860   \n",
       "19        Loris Revelli                      0                      NaN   \n",
       "20         Andreas Kolb                      3                 0.290233   \n",
       "21          Joe Breeden                      7                 0.254329   \n",
       "22            Jack Moir                     62                 0.220487   \n",
       "23         Bernard Kerr                     77                 0.243296   \n",
       "24       Charlie Hatton                      8                 0.285737   \n",
       "\n",
       "    mean of riders beat  \n",
       "0             94.800000  \n",
       "1             81.600000  \n",
       "2             91.200000  \n",
       "3             79.000000  \n",
       "4             92.400000  \n",
       "5             92.600000  \n",
       "6             76.400000  \n",
       "7             83.200000  \n",
       "8             77.000000  \n",
       "9             78.000000  \n",
       "10            77.750000  \n",
       "11            86.000000  \n",
       "12            69.400000  \n",
       "13            77.750000  \n",
       "14            66.200000  \n",
       "15            83.500000  \n",
       "16            83.000000  \n",
       "17            80.400000  \n",
       "18            50.333333  \n",
       "19            72.400000  \n",
       "20            70.600000  \n",
       "21            69.750000  \n",
       "22            90.666667  \n",
       "23            72.800000  \n",
       "24            66.800000  "
      ]
     },
     "metadata": {},
     "output_type": "display_data"
    }
   ],
   "source": [
    "def analyse_data(first_name, last_name, nick_name):\n",
    "    \n",
    "    full_name = first_name + \" \" + last_name\n",
    "    rider_filter = last_name\n",
    "\n",
    "    df_trans = df_result.loc[df_result['rider name'].str.contains(rider_filter, case = False)]\n",
    "    df_result['rider name'][df_result['rider name'].str.contains(rider_filter, case = False, regex = True)] = full_name\n",
    "    \n",
    "    sr_result = df_result.set_index(\"rider name\")[\"mean of riders beat\"].to_dict()\n",
    "    \n",
    "    df_top_25_2020[\"mean of riders beat\"] = df_top_25_2020[\"rider name\"].map(sr_result)\n",
    "\n",
    "for rider in rider_top_25_2020:\n",
    "    analyse_data(rider[0],rider[1],rider[2])\n",
    "    \n",
    "# Manuelles nachtragen der nicht gemappten Werte\n",
    "df_top_25_2020.at[[6], 'mean of riders beat'] = [76.4]\n",
    "\n",
    "display(df_top_25_2020)"
   ]
  },
  {
   "cell_type": "code",
   "execution_count": 8,
   "id": "9ba6e2d8",
   "metadata": {},
   "outputs": [
    {
     "name": "stdout",
     "output_type": "stream",
     "text": [
      "2475\n"
     ]
    }
   ],
   "source": [
    "sum_n = df_top_25_2020[\"sentiment sample size\"].sum()\n",
    "print(sum_n)"
   ]
  },
  {
   "cell_type": "code",
   "execution_count": 9,
   "id": "23be02d1",
   "metadata": {},
   "outputs": [
    {
     "name": "stdout",
     "output_type": "stream",
     "text": [
      "0.10703730258127477\n"
     ]
    }
   ],
   "source": [
    "corr_beat = df_top_25_2020[\"sentiment mean compound\"].corr(df_top_25_2020[\"mean of riders beat\"])\n",
    "print(corr_beat)"
   ]
  },
  {
   "cell_type": "code",
   "execution_count": 10,
   "id": "901ffc82",
   "metadata": {
    "scrolled": true
   },
   "outputs": [
    {
     "name": "stdout",
     "output_type": "stream",
     "text": [
      "-0.2703143831294623\n"
     ]
    }
   ],
   "source": [
    "corr_size = df_top_25_2020[\"sentiment sample size\"].corr(df_top_25_2020[\"mean of riders beat\"])\n",
    "print(corr_size)"
   ]
  },
  {
   "cell_type": "code",
   "execution_count": 11,
   "id": "10e03a01",
   "metadata": {
    "scrolled": true
   },
   "outputs": [
    {
     "name": "stdout",
     "output_type": "stream",
     "text": [
      "0.07715068607614416\n"
     ]
    }
   ],
   "source": [
    "std = df_top_25_2020[\"sentiment mean compound\"].std()\n",
    "print(std)"
   ]
  },
  {
   "cell_type": "code",
   "execution_count": 12,
   "id": "4f2c200f",
   "metadata": {},
   "outputs": [],
   "source": [
    "sns.set_style(\"dark\")"
   ]
  },
  {
   "cell_type": "code",
   "execution_count": 45,
   "id": "c515f43e",
   "metadata": {},
   "outputs": [
    {
     "data": {
      "image/png": "[encoded data removed]",
      "text/plain": [
       "<Figure size 360x360 with 1 Axes>"
      ]
     },
     "metadata": {},
     "output_type": "display_data"
    }
   ],
   "source": [
    "sns.lmplot(x = \"sentiment mean compound\", y = \"mean of riders beat\", data = df_top_25_2020)\n",
    "\n",
    "# control x and y limits\n",
    "# plt.ylim(0, 100)\n",
    "plt.xlim(-1, 1)\n",
    " \n",
    "plt.show()"
   ]
  },
  {
   "cell_type": "code",
   "execution_count": 46,
   "id": "ed9a8a9b",
   "metadata": {},
   "outputs": [
    {
     "data": {
      "image/png": "[encoded data removed]",
      "text/plain": [
       "<Figure size 360x360 with 1 Axes>"
      ]
     },
     "metadata": {},
     "output_type": "display_data"
    }
   ],
   "source": [
    "sns.lmplot(x = \"sentiment sample size\", y = \"mean of riders beat\", data = df_top_25_2020)\n",
    "\n",
    "# control x and y limits\n",
    "plt.ylim(0, 100)\n",
    "plt.xlim(0, 500)\n",
    " \n",
    "plt.show()"
   ]
  },
  {
   "cell_type": "markdown",
   "id": "ad4cf02f",
   "metadata": {},
   "source": [
    "----"
   ]
  },
  {
   "cell_type": "markdown",
   "id": "f16ad0f4",
   "metadata": {},
   "source": [
    "## Get results of 2019"
   ]
  },
  {
   "cell_type": "markdown",
   "id": "e1609d58",
   "metadata": {},
   "source": [
    "### Open .pkl file of sentiment analysis"
   ]
  },
  {
   "cell_type": "code",
   "execution_count": 14,
   "id": "05432d91",
   "metadata": {},
   "outputs": [
    {
     "data": {
      "text/plain": [
       "125307"
      ]
     },
     "execution_count": 14,
     "metadata": {},
     "output_type": "execute_result"
    }
   ],
   "source": [
    "with open('src/2019_clean_pinkbike_comments.pkl', 'rb') as pickle_file:\n",
    "    df = pickle.load(pickle_file)\n",
    "len(df.index)"
   ]
  },
  {
   "cell_type": "markdown",
   "id": "0f429561",
   "metadata": {},
   "source": [
    "#### Show ratio of positiv to negative comments of N"
   ]
  },
  {
   "cell_type": "code",
   "execution_count": 15,
   "id": "2e44c2f1",
   "metadata": {},
   "outputs": [
    {
     "data": {
      "image/png": "[encoded data removed]",
      "text/plain": [
       "<Figure size 432x288 with 1 Axes>"
      ]
     },
     "metadata": {},
     "output_type": "display_data"
    }
   ],
   "source": [
    "result = df['sentiment'].value_counts()\n",
    "result.plot(kind = 'bar', rot = 0, color = ['blue','cyan']);"
   ]
  },
  {
   "cell_type": "markdown",
   "id": "2fd657d4",
   "metadata": {},
   "source": [
    "### Pearson correlation coefficient top 25:\n",
    "#### between sentiment analysis mean compound and beat participants in races"
   ]
  },
  {
   "cell_type": "code",
   "execution_count": 16,
   "id": "521926e5",
   "metadata": {},
   "outputs": [],
   "source": [
    "rider_top_25_2019 = [\n",
    "    [\"Loic\", \"Bruni\", \"Superbruni\"],\n",
    "    [\"Amaury\", \"Pierron\", \"\"], \n",
    "    [\"Troy\", \"Brosnan\", \"\"],\n",
    "    [\"Danny\", \"Hart\", \"Redcar Rocket\"],\n",
    "    [\"Loris\", \"Vergier\", \"\"],\n",
    "    [\"Greg\", \"Minnaar\", \"\"],\n",
    "    [\"Laurie\", \"Greenland\", \"\"],\n",
    "    [\"Mark\", \"Wallace\", \"\"],\n",
    "    [\"David\", \"Trummer\", \"\"],\n",
    "    [\"Dean\", \"Lucas\", \"\"],\n",
    "    [\"Brook\", \"Macdonald\", \"Bulldog\"],\n",
    "    [\"Remi\", \"Thirion\", \"\"],\n",
    "    [\"Charlie\", \"Harrison\", \"\"],\n",
    "    [\"Luca\", \"Shaw\", \"\"],\n",
    "    [\"Dakotah\", \"Norton\", \"\"],\n",
    "    [\"Matt\", \"Walker\", \"\"],\n",
    "    [\"Connor\", \"Fearon\", \"\"],\n",
    "    [\"Reece\", \"Wilson\", \"\"],\n",
    "    [\"Baptiste\", \"Pierron\", \"Baptiste Pierron\"],\n",
    "    [\"Aaron\", \"Gwin\", \"\"],\n",
    "    [\"Finn\", \"Iles\", \"\"],\n",
    "    [\"Greg\", \"Williamson\", \"\"],\n",
    "    [\"Thomas\", \"Estaque\", \"\"],\n",
    "    [\"Gee\", \"Atherton\", \"\"],\n",
    "    [\"Charlie\", \"Hatton\", \"\"]\n",
    "]"
   ]
  },
  {
   "cell_type": "code",
   "execution_count": 17,
   "id": "721ece25",
   "metadata": {},
   "outputs": [],
   "source": [
    "rider_result_dict_list = []\n",
    "\n",
    "def analyse_data(first_name, last_name, nick_name):\n",
    "\n",
    "    rider_filter = [last_name, nick_name]\n",
    "    if nick_name == \"\":\n",
    "        rider_filter_regex = last_name\n",
    "    else:\n",
    "        rider_filter_regex = '|'.join(rider_filter)\n",
    "\n",
    "    df_single_rider = df.loc[df['comments'].str.contains(rider_filter_regex, case = False, regex = True)]\n",
    "\n",
    "    full_name = first_name + \" \" + last_name\n",
    "    sample_size = len(df_single_rider.index)\n",
    "    mean_compound = df_single_rider[\"compound\"].mean()\n",
    "\n",
    "    rider_result_dict = {\n",
    "        \"rider name\": full_name,\n",
    "        \"sentiment sample size\": sample_size,\n",
    "        \"sentiment mean compound\": mean_compound\n",
    "    }\n",
    "\n",
    "    rider_result_dict_list.append(rider_result_dict)\n",
    "\n",
    "for rider in rider_top_25_2019:\n",
    "    analyse_data(rider[0],rider[1],rider[2])\n",
    "    \n",
    "df_top_25_2019 = pd.DataFrame(rider_result_dict_list)"
   ]
  },
  {
   "cell_type": "code",
   "execution_count": 18,
   "id": "118b4646",
   "metadata": {},
   "outputs": [],
   "source": [
    "df_result = pd.read_csv('src/2019_results.csv')\n",
    "df_result.columns = ['rider name', 'mean of riders beat']"
   ]
  },
  {
   "cell_type": "code",
   "execution_count": 19,
   "id": "94c088c4",
   "metadata": {
    "scrolled": true
   },
   "outputs": [
    {
     "data": {
      "text/html": [
       "<div>\n",
       "<style scoped>\n",
       "    .dataframe tbody tr th:only-of-type {\n",
       "        vertical-align: middle;\n",
       "    }\n",
       "\n",
       "    .dataframe tbody tr th {\n",
       "        vertical-align: top;\n",
       "    }\n",
       "\n",
       "    .dataframe thead th {\n",
       "        text-align: right;\n",
       "    }\n",
       "</style>\n",
       "<table border=\"1\" class=\"dataframe\">\n",
       "  <thead>\n",
       "    <tr style=\"text-align: right;\">\n",
       "      <th></th>\n",
       "      <th>rider name</th>\n",
       "      <th>sentiment sample size</th>\n",
       "      <th>sentiment mean compound</th>\n",
       "      <th>mean of riders beat</th>\n",
       "    </tr>\n",
       "  </thead>\n",
       "  <tbody>\n",
       "    <tr>\n",
       "      <th>0</th>\n",
       "      <td>Loic Bruni</td>\n",
       "      <td>201</td>\n",
       "      <td>0.463698</td>\n",
       "      <td>98.666667</td>\n",
       "    </tr>\n",
       "    <tr>\n",
       "      <th>1</th>\n",
       "      <td>Amaury Pierron</td>\n",
       "      <td>146</td>\n",
       "      <td>0.294738</td>\n",
       "      <td>98.444444</td>\n",
       "    </tr>\n",
       "    <tr>\n",
       "      <th>2</th>\n",
       "      <td>Troy Brosnan</td>\n",
       "      <td>85</td>\n",
       "      <td>0.340406</td>\n",
       "      <td>97.444444</td>\n",
       "    </tr>\n",
       "    <tr>\n",
       "      <th>3</th>\n",
       "      <td>Danny Hart</td>\n",
       "      <td>275</td>\n",
       "      <td>0.352355</td>\n",
       "      <td>94.333333</td>\n",
       "    </tr>\n",
       "    <tr>\n",
       "      <th>4</th>\n",
       "      <td>Loris Vergier</td>\n",
       "      <td>44</td>\n",
       "      <td>0.404080</td>\n",
       "      <td>83.888889</td>\n",
       "    </tr>\n",
       "    <tr>\n",
       "      <th>5</th>\n",
       "      <td>Greg Minnaar</td>\n",
       "      <td>182</td>\n",
       "      <td>0.408535</td>\n",
       "      <td>85.333333</td>\n",
       "    </tr>\n",
       "    <tr>\n",
       "      <th>6</th>\n",
       "      <td>Laurie Greenland</td>\n",
       "      <td>49</td>\n",
       "      <td>0.419916</td>\n",
       "      <td>91.000000</td>\n",
       "    </tr>\n",
       "    <tr>\n",
       "      <th>7</th>\n",
       "      <td>Mark Wallace</td>\n",
       "      <td>84</td>\n",
       "      <td>0.140435</td>\n",
       "      <td>87.666667</td>\n",
       "    </tr>\n",
       "    <tr>\n",
       "      <th>8</th>\n",
       "      <td>David Trummer</td>\n",
       "      <td>39</td>\n",
       "      <td>0.274951</td>\n",
       "      <td>86.444444</td>\n",
       "    </tr>\n",
       "    <tr>\n",
       "      <th>9</th>\n",
       "      <td>Dean Lucas</td>\n",
       "      <td>84</td>\n",
       "      <td>0.421663</td>\n",
       "      <td>83.000000</td>\n",
       "    </tr>\n",
       "    <tr>\n",
       "      <th>10</th>\n",
       "      <td>Brook Macdonald</td>\n",
       "      <td>102</td>\n",
       "      <td>0.337506</td>\n",
       "      <td>79.250000</td>\n",
       "    </tr>\n",
       "    <tr>\n",
       "      <th>11</th>\n",
       "      <td>Remi Thirion</td>\n",
       "      <td>9</td>\n",
       "      <td>-0.004544</td>\n",
       "      <td>86.222222</td>\n",
       "    </tr>\n",
       "    <tr>\n",
       "      <th>12</th>\n",
       "      <td>Charlie Harrison</td>\n",
       "      <td>44</td>\n",
       "      <td>0.396923</td>\n",
       "      <td>71.000000</td>\n",
       "    </tr>\n",
       "    <tr>\n",
       "      <th>13</th>\n",
       "      <td>Luca Shaw</td>\n",
       "      <td>75</td>\n",
       "      <td>0.297624</td>\n",
       "      <td>77.555556</td>\n",
       "    </tr>\n",
       "    <tr>\n",
       "      <th>14</th>\n",
       "      <td>Dakotah Norton</td>\n",
       "      <td>32</td>\n",
       "      <td>0.259356</td>\n",
       "      <td>81.555556</td>\n",
       "    </tr>\n",
       "    <tr>\n",
       "      <th>15</th>\n",
       "      <td>Matt Walker</td>\n",
       "      <td>90</td>\n",
       "      <td>0.277687</td>\n",
       "      <td>42.714286</td>\n",
       "    </tr>\n",
       "    <tr>\n",
       "      <th>16</th>\n",
       "      <td>Connor Fearon</td>\n",
       "      <td>42</td>\n",
       "      <td>0.273231</td>\n",
       "      <td>64.555556</td>\n",
       "    </tr>\n",
       "    <tr>\n",
       "      <th>17</th>\n",
       "      <td>Reece Wilson</td>\n",
       "      <td>71</td>\n",
       "      <td>0.238808</td>\n",
       "      <td>69.111111</td>\n",
       "    </tr>\n",
       "    <tr>\n",
       "      <th>18</th>\n",
       "      <td>Baptiste Pierron</td>\n",
       "      <td>146</td>\n",
       "      <td>0.294738</td>\n",
       "      <td>82.333333</td>\n",
       "    </tr>\n",
       "    <tr>\n",
       "      <th>19</th>\n",
       "      <td>Aaron Gwin</td>\n",
       "      <td>675</td>\n",
       "      <td>0.269864</td>\n",
       "      <td>52.285714</td>\n",
       "    </tr>\n",
       "    <tr>\n",
       "      <th>20</th>\n",
       "      <td>Finn Iles</td>\n",
       "      <td>551</td>\n",
       "      <td>0.286013</td>\n",
       "      <td>67.555556</td>\n",
       "    </tr>\n",
       "    <tr>\n",
       "      <th>21</th>\n",
       "      <td>Greg Williamson</td>\n",
       "      <td>5</td>\n",
       "      <td>-0.111940</td>\n",
       "      <td>58.333333</td>\n",
       "    </tr>\n",
       "    <tr>\n",
       "      <th>22</th>\n",
       "      <td>Thomas Estaque</td>\n",
       "      <td>5</td>\n",
       "      <td>0.277740</td>\n",
       "      <td>55.333333</td>\n",
       "    </tr>\n",
       "    <tr>\n",
       "      <th>23</th>\n",
       "      <td>Gee Atherton</td>\n",
       "      <td>340</td>\n",
       "      <td>0.370189</td>\n",
       "      <td>70.600000</td>\n",
       "    </tr>\n",
       "    <tr>\n",
       "      <th>24</th>\n",
       "      <td>Charlie Hatton</td>\n",
       "      <td>4</td>\n",
       "      <td>-0.260850</td>\n",
       "      <td>78.625000</td>\n",
       "    </tr>\n",
       "  </tbody>\n",
       "</table>\n",
       "</div>"
      ],
      "text/plain": [
       "          rider name  sentiment sample size  sentiment mean compound  \\\n",
       "0         Loic Bruni                    201                 0.463698   \n",
       "1     Amaury Pierron                    146                 0.294738   \n",
       "2       Troy Brosnan                     85                 0.340406   \n",
       "3         Danny Hart                    275                 0.352355   \n",
       "4      Loris Vergier                     44                 0.404080   \n",
       "5       Greg Minnaar                    182                 0.408535   \n",
       "6   Laurie Greenland                     49                 0.419916   \n",
       "7       Mark Wallace                     84                 0.140435   \n",
       "8      David Trummer                     39                 0.274951   \n",
       "9         Dean Lucas                     84                 0.421663   \n",
       "10   Brook Macdonald                    102                 0.337506   \n",
       "11      Remi Thirion                      9                -0.004544   \n",
       "12  Charlie Harrison                     44                 0.396923   \n",
       "13         Luca Shaw                     75                 0.297624   \n",
       "14    Dakotah Norton                     32                 0.259356   \n",
       "15       Matt Walker                     90                 0.277687   \n",
       "16     Connor Fearon                     42                 0.273231   \n",
       "17      Reece Wilson                     71                 0.238808   \n",
       "18  Baptiste Pierron                    146                 0.294738   \n",
       "19        Aaron Gwin                    675                 0.269864   \n",
       "20         Finn Iles                    551                 0.286013   \n",
       "21   Greg Williamson                      5                -0.111940   \n",
       "22    Thomas Estaque                      5                 0.277740   \n",
       "23      Gee Atherton                    340                 0.370189   \n",
       "24    Charlie Hatton                      4                -0.260850   \n",
       "\n",
       "    mean of riders beat  \n",
       "0             98.666667  \n",
       "1             98.444444  \n",
       "2             97.444444  \n",
       "3             94.333333  \n",
       "4             83.888889  \n",
       "5             85.333333  \n",
       "6             91.000000  \n",
       "7             87.666667  \n",
       "8             86.444444  \n",
       "9             83.000000  \n",
       "10            79.250000  \n",
       "11            86.222222  \n",
       "12            71.000000  \n",
       "13            77.555556  \n",
       "14            81.555556  \n",
       "15            42.714286  \n",
       "16            64.555556  \n",
       "17            69.111111  \n",
       "18            82.333333  \n",
       "19            52.285714  \n",
       "20            67.555556  \n",
       "21            58.333333  \n",
       "22            55.333333  \n",
       "23            70.600000  \n",
       "24            78.625000  "
      ]
     },
     "metadata": {},
     "output_type": "display_data"
    }
   ],
   "source": [
    "def analyse_data(first_name, last_name, nick_name):\n",
    "    \n",
    "    full_name = first_name + \" \" + last_name\n",
    "    rider_filter = last_name\n",
    "\n",
    "    df_trans = df_result.loc[df_result['rider name'].str.contains(rider_filter, case = False)]\n",
    "    df_result['rider name'][df_result['rider name'].str.contains(rider_filter, case = False, regex = True)] = full_name\n",
    "    \n",
    "    sr_result = df_result.set_index(\"rider name\")[\"mean of riders beat\"].to_dict()\n",
    "    \n",
    "    df_top_25_2019[\"mean of riders beat\"] = df_top_25_2019[\"rider name\"].map(sr_result)\n",
    "\n",
    "for rider in rider_top_25_2019:\n",
    "    analyse_data(rider[0],rider[1],rider[2])\n",
    "\n",
    "# Manuelles nachtragen der nicht gemappten Werte\n",
    "df_top_25_2019.at[[1, 3, 9, 13], 'mean of riders beat'] = [98.44444444444444, 94.33333333333333, 83, 77.55555555555556]\n",
    "    \n",
    "display(df_top_25_2019)"
   ]
  },
  {
   "cell_type": "code",
   "execution_count": 20,
   "id": "b5cd8d3e",
   "metadata": {},
   "outputs": [
    {
     "name": "stdout",
     "output_type": "stream",
     "text": [
      "3380\n"
     ]
    }
   ],
   "source": [
    "sum_n = df_top_25_2019[\"sentiment sample size\"].sum()\n",
    "print(sum_n)"
   ]
  },
  {
   "cell_type": "code",
   "execution_count": 21,
   "id": "8822a203",
   "metadata": {},
   "outputs": [
    {
     "name": "stdout",
     "output_type": "stream",
     "text": [
      "0.22481245121995427\n"
     ]
    }
   ],
   "source": [
    "corr_beat = df_top_25_2019[\"sentiment mean compound\"].corr(df_top_25_2019[\"mean of riders beat\"])\n",
    "print(corr_beat)"
   ]
  },
  {
   "cell_type": "code",
   "execution_count": 22,
   "id": "725cc9ac",
   "metadata": {
    "scrolled": true
   },
   "outputs": [
    {
     "name": "stdout",
     "output_type": "stream",
     "text": [
      "-0.19448522842305507\n"
     ]
    }
   ],
   "source": [
    "corr_size = df_top_25_2019[\"sentiment sample size\"].corr(df_top_25_2019[\"mean of riders beat\"])\n",
    "print(corr_size)"
   ]
  },
  {
   "cell_type": "code",
   "execution_count": 23,
   "id": "6f2c8b22",
   "metadata": {
    "scrolled": true
   },
   "outputs": [
    {
     "name": "stdout",
     "output_type": "stream",
     "text": [
      "0.16905432796383912\n"
     ]
    }
   ],
   "source": [
    "std = df_top_25_2019[\"sentiment mean compound\"].std()\n",
    "print(std)"
   ]
  },
  {
   "cell_type": "code",
   "execution_count": 47,
   "id": "26777256",
   "metadata": {},
   "outputs": [
    {
     "data": {
      "image/png": "[encoded data removed]",
      "text/plain": [
       "<Figure size 360x360 with 1 Axes>"
      ]
     },
     "metadata": {},
     "output_type": "display_data"
    }
   ],
   "source": [
    "sns.lmplot(x = \"sentiment mean compound\", y = \"mean of riders beat\", data = df_top_25_2019)\n",
    "\n",
    "# control x and y limits\n",
    "# plt.ylim(0, 100)\n",
    "plt.xlim(-1, 1)\n",
    " \n",
    "plt.show()"
   ]
  },
  {
   "cell_type": "code",
   "execution_count": 48,
   "id": "5707a0a0",
   "metadata": {},
   "outputs": [
    {
     "data": {
      "image/png": "[encoded data removed]",
      "text/plain": [
       "<Figure size 360x360 with 1 Axes>"
      ]
     },
     "metadata": {},
     "output_type": "display_data"
    }
   ],
   "source": [
    "sns.lmplot(x = \"sentiment sample size\", y = \"mean of riders beat\", data = df_top_25_2019)\n",
    "\n",
    "# control x and y limits\n",
    "plt.ylim(0, 100)\n",
    "plt.xlim(0, 500)\n",
    " \n",
    "plt.show()"
   ]
  },
  {
   "cell_type": "markdown",
   "id": "dc940e3d",
   "metadata": {},
   "source": [
    "----"
   ]
  },
  {
   "cell_type": "markdown",
   "id": "58946a8b",
   "metadata": {},
   "source": [
    "## Get results of 2018"
   ]
  },
  {
   "cell_type": "markdown",
   "id": "4a9bd264",
   "metadata": {},
   "source": [
    "### Open .pkl file of sentiment analysis"
   ]
  },
  {
   "cell_type": "code",
   "execution_count": 25,
   "id": "27714dd4",
   "metadata": {},
   "outputs": [
    {
     "data": {
      "text/plain": [
       "116723"
      ]
     },
     "execution_count": 25,
     "metadata": {},
     "output_type": "execute_result"
    }
   ],
   "source": [
    "with open('src/2018_clean_pinkbike_comments.pkl', 'rb') as pickle_file:\n",
    "    df = pickle.load(pickle_file)\n",
    "len(df.index)"
   ]
  },
  {
   "cell_type": "markdown",
   "id": "7cdbebaf",
   "metadata": {},
   "source": [
    "#### Show ratio of positiv to negative comments of N"
   ]
  },
  {
   "cell_type": "code",
   "execution_count": 26,
   "id": "04368aeb",
   "metadata": {},
   "outputs": [
    {
     "data": {
      "image/png": "[encoded data removed]",
      "text/plain": [
       "<Figure size 432x288 with 1 Axes>"
      ]
     },
     "metadata": {},
     "output_type": "display_data"
    }
   ],
   "source": [
    "result = df['sentiment'].value_counts()\n",
    "result.plot(kind = 'bar', rot = 0, color = ['blue','cyan']);"
   ]
  },
  {
   "cell_type": "markdown",
   "id": "a0780d8b",
   "metadata": {},
   "source": [
    "### Pearson correlation coefficient top 25:\n",
    "#### between sentiment analysis mean compound and beat participants in races"
   ]
  },
  {
   "cell_type": "code",
   "execution_count": 27,
   "id": "755e9b99",
   "metadata": {},
   "outputs": [],
   "source": [
    "rider_top_25_2018 = [\n",
    "    [\"Amaury\", \"Pierron\", \"\"], \n",
    "    [\"Danny\", \"Hart\", \"Redcar Rocket\"],\n",
    "    [\"Troy\", \"Brosnan\", \"\"],\n",
    "    [\"Loris\", \"Vergier\", \"\"],\n",
    "    [\"Laurie\", \"Greenland\", \"\"],\n",
    "    [\"Brook\", \"Macdonald\", \"Bulldog\"],\n",
    "    [\"Loic\", \"Bruni\", \"Superbruni\"],\n",
    "    [\"Luca\", \"Shaw\", \"\"],\n",
    "    [\"Gee\", \"Atherton\", \"\"],\n",
    "    [\"Connor\", \"Fearon\", \"\"],\n",
    "    [\"Aaron\", \"Gwin\", \"\"],\n",
    "    [\"Remi\", \"Thirion\", \"\"],\n",
    "    [\"Sam\", \"Blenkinsop\", \"Blenki\"],\n",
    "    [\"Mark\", \"Wallace\", \"\"],\n",
    "    [\"Finn\", \"Iles\", \"\"],\n",
    "    [\"Charlie\", \"Harrison\", \"\"],\n",
    "    [\"Marcelo\", \"Gutierrez Villegas\", \"Gutierrez\"],\n",
    "    [\"Reece\", \"Wilson\", \"\"],\n",
    "    [\"Dean\", \"Lucas\", \"\"],\n",
    "    [\"Martin\", \"Maes\", \"\"],\n",
    "    [\"Matt\", \"Walker\", \"\"],\n",
    "    [\"Dakotah\", \"Norton\", \"\"],\n",
    "    [\"Adam\", \"Brayton\", \"\"],\n",
    "    [\"Thomas\", \"Estaque\", \"\"],\n",
    "    [\"Jack\", \"Moir\", \"Shark Attack Jack\"]\n",
    "]"
   ]
  },
  {
   "cell_type": "code",
   "execution_count": 28,
   "id": "ccf88dd1",
   "metadata": {},
   "outputs": [],
   "source": [
    "rider_result_dict_list = []\n",
    "\n",
    "def analyse_data(first_name, last_name, nick_name):\n",
    "\n",
    "    rider_filter = [last_name, nick_name]\n",
    "    if nick_name == \"\":\n",
    "        rider_filter_regex = last_name\n",
    "    else:\n",
    "        rider_filter_regex = '|'.join(rider_filter)\n",
    "\n",
    "    df_single_rider = df.loc[df['comments'].str.contains(rider_filter_regex, case = False, regex = True)]\n",
    "\n",
    "    full_name = first_name + \" \" + last_name\n",
    "    sample_size = len(df_single_rider.index)\n",
    "    mean_compound = df_single_rider[\"compound\"].mean()\n",
    "\n",
    "    rider_result_dict = {\n",
    "        \"rider name\": full_name,\n",
    "        \"sentiment sample size\": sample_size,\n",
    "        \"sentiment mean compound\": mean_compound\n",
    "    }\n",
    "\n",
    "    rider_result_dict_list.append(rider_result_dict)\n",
    "\n",
    "for rider in rider_top_25_2018:\n",
    "    analyse_data(rider[0],rider[1],rider[2])\n",
    "    \n",
    "df_top_25_2018 = pd.DataFrame(rider_result_dict_list)"
   ]
  },
  {
   "cell_type": "code",
   "execution_count": 29,
   "id": "6ad1c0f8",
   "metadata": {},
   "outputs": [],
   "source": [
    "df_result = pd.read_csv('src/2018_results.csv')\n",
    "df_result.columns = ['rider name', 'mean of riders beat']"
   ]
  },
  {
   "cell_type": "code",
   "execution_count": 30,
   "id": "19f85a59",
   "metadata": {
    "scrolled": true
   },
   "outputs": [
    {
     "data": {
      "text/html": [
       "<div>\n",
       "<style scoped>\n",
       "    .dataframe tbody tr th:only-of-type {\n",
       "        vertical-align: middle;\n",
       "    }\n",
       "\n",
       "    .dataframe tbody tr th {\n",
       "        vertical-align: top;\n",
       "    }\n",
       "\n",
       "    .dataframe thead th {\n",
       "        text-align: right;\n",
       "    }\n",
       "</style>\n",
       "<table border=\"1\" class=\"dataframe\">\n",
       "  <thead>\n",
       "    <tr style=\"text-align: right;\">\n",
       "      <th></th>\n",
       "      <th>rider name</th>\n",
       "      <th>sentiment sample size</th>\n",
       "      <th>sentiment mean compound</th>\n",
       "      <th>mean of riders beat</th>\n",
       "    </tr>\n",
       "  </thead>\n",
       "  <tbody>\n",
       "    <tr>\n",
       "      <th>0</th>\n",
       "      <td>Amaury Pierron</td>\n",
       "      <td>88</td>\n",
       "      <td>0.407624</td>\n",
       "      <td>88.375000</td>\n",
       "    </tr>\n",
       "    <tr>\n",
       "      <th>1</th>\n",
       "      <td>Danny Hart</td>\n",
       "      <td>272</td>\n",
       "      <td>0.277744</td>\n",
       "      <td>96.250000</td>\n",
       "    </tr>\n",
       "    <tr>\n",
       "      <th>2</th>\n",
       "      <td>Troy Brosnan</td>\n",
       "      <td>77</td>\n",
       "      <td>0.270613</td>\n",
       "      <td>95.375000</td>\n",
       "    </tr>\n",
       "    <tr>\n",
       "      <th>3</th>\n",
       "      <td>Loris Vergier</td>\n",
       "      <td>29</td>\n",
       "      <td>0.407728</td>\n",
       "      <td>92.750000</td>\n",
       "    </tr>\n",
       "    <tr>\n",
       "      <th>4</th>\n",
       "      <td>Laurie Greenland</td>\n",
       "      <td>32</td>\n",
       "      <td>0.431275</td>\n",
       "      <td>82.875000</td>\n",
       "    </tr>\n",
       "    <tr>\n",
       "      <th>5</th>\n",
       "      <td>Brook Macdonald</td>\n",
       "      <td>93</td>\n",
       "      <td>0.235110</td>\n",
       "      <td>74.250000</td>\n",
       "    </tr>\n",
       "    <tr>\n",
       "      <th>6</th>\n",
       "      <td>Loic Bruni</td>\n",
       "      <td>125</td>\n",
       "      <td>0.316566</td>\n",
       "      <td>82.875000</td>\n",
       "    </tr>\n",
       "    <tr>\n",
       "      <th>7</th>\n",
       "      <td>Luca Shaw</td>\n",
       "      <td>95</td>\n",
       "      <td>0.303019</td>\n",
       "      <td>81.375000</td>\n",
       "    </tr>\n",
       "    <tr>\n",
       "      <th>8</th>\n",
       "      <td>Gee Atherton</td>\n",
       "      <td>155</td>\n",
       "      <td>0.322464</td>\n",
       "      <td>97.625000</td>\n",
       "    </tr>\n",
       "    <tr>\n",
       "      <th>9</th>\n",
       "      <td>Connor Fearon</td>\n",
       "      <td>37</td>\n",
       "      <td>0.354900</td>\n",
       "      <td>89.625000</td>\n",
       "    </tr>\n",
       "    <tr>\n",
       "      <th>10</th>\n",
       "      <td>Aaron Gwin</td>\n",
       "      <td>699</td>\n",
       "      <td>0.294034</td>\n",
       "      <td>88.166667</td>\n",
       "    </tr>\n",
       "    <tr>\n",
       "      <th>11</th>\n",
       "      <td>Remi Thirion</td>\n",
       "      <td>18</td>\n",
       "      <td>0.269944</td>\n",
       "      <td>88.375000</td>\n",
       "    </tr>\n",
       "    <tr>\n",
       "      <th>12</th>\n",
       "      <td>Sam Blenkinsop</td>\n",
       "      <td>165</td>\n",
       "      <td>0.304876</td>\n",
       "      <td>84.375000</td>\n",
       "    </tr>\n",
       "    <tr>\n",
       "      <th>13</th>\n",
       "      <td>Mark Wallace</td>\n",
       "      <td>45</td>\n",
       "      <td>0.138671</td>\n",
       "      <td>88.625000</td>\n",
       "    </tr>\n",
       "    <tr>\n",
       "      <th>14</th>\n",
       "      <td>Finn Iles</td>\n",
       "      <td>469</td>\n",
       "      <td>0.327178</td>\n",
       "      <td>83.125000</td>\n",
       "    </tr>\n",
       "    <tr>\n",
       "      <th>15</th>\n",
       "      <td>Charlie Harrison</td>\n",
       "      <td>18</td>\n",
       "      <td>0.484906</td>\n",
       "      <td>87.125000</td>\n",
       "    </tr>\n",
       "    <tr>\n",
       "      <th>16</th>\n",
       "      <td>Marcelo Gutierrez Villegas</td>\n",
       "      <td>152</td>\n",
       "      <td>-0.231079</td>\n",
       "      <td>86.625000</td>\n",
       "    </tr>\n",
       "    <tr>\n",
       "      <th>17</th>\n",
       "      <td>Reece Wilson</td>\n",
       "      <td>66</td>\n",
       "      <td>0.363732</td>\n",
       "      <td>36.000000</td>\n",
       "    </tr>\n",
       "    <tr>\n",
       "      <th>18</th>\n",
       "      <td>Dean Lucas</td>\n",
       "      <td>30</td>\n",
       "      <td>0.347763</td>\n",
       "      <td>74.500000</td>\n",
       "    </tr>\n",
       "    <tr>\n",
       "      <th>19</th>\n",
       "      <td>Martin Maes</td>\n",
       "      <td>3109</td>\n",
       "      <td>-0.075660</td>\n",
       "      <td>97.333333</td>\n",
       "    </tr>\n",
       "    <tr>\n",
       "      <th>20</th>\n",
       "      <td>Matt Walker</td>\n",
       "      <td>64</td>\n",
       "      <td>0.149459</td>\n",
       "      <td>52.750000</td>\n",
       "    </tr>\n",
       "    <tr>\n",
       "      <th>21</th>\n",
       "      <td>Dakotah Norton</td>\n",
       "      <td>24</td>\n",
       "      <td>0.022154</td>\n",
       "      <td>69.857143</td>\n",
       "    </tr>\n",
       "    <tr>\n",
       "      <th>22</th>\n",
       "      <td>Adam Brayton</td>\n",
       "      <td>30</td>\n",
       "      <td>0.226210</td>\n",
       "      <td>73.000000</td>\n",
       "    </tr>\n",
       "    <tr>\n",
       "      <th>23</th>\n",
       "      <td>Thomas Estaque</td>\n",
       "      <td>8</td>\n",
       "      <td>0.302538</td>\n",
       "      <td>63.750000</td>\n",
       "    </tr>\n",
       "    <tr>\n",
       "      <th>24</th>\n",
       "      <td>Jack Moir</td>\n",
       "      <td>28</td>\n",
       "      <td>0.253546</td>\n",
       "      <td>73.800000</td>\n",
       "    </tr>\n",
       "  </tbody>\n",
       "</table>\n",
       "</div>"
      ],
      "text/plain": [
       "                    rider name  sentiment sample size  \\\n",
       "0               Amaury Pierron                     88   \n",
       "1                   Danny Hart                    272   \n",
       "2                 Troy Brosnan                     77   \n",
       "3                Loris Vergier                     29   \n",
       "4             Laurie Greenland                     32   \n",
       "5              Brook Macdonald                     93   \n",
       "6                   Loic Bruni                    125   \n",
       "7                    Luca Shaw                     95   \n",
       "8                 Gee Atherton                    155   \n",
       "9                Connor Fearon                     37   \n",
       "10                  Aaron Gwin                    699   \n",
       "11                Remi Thirion                     18   \n",
       "12              Sam Blenkinsop                    165   \n",
       "13                Mark Wallace                     45   \n",
       "14                   Finn Iles                    469   \n",
       "15            Charlie Harrison                     18   \n",
       "16  Marcelo Gutierrez Villegas                    152   \n",
       "17                Reece Wilson                     66   \n",
       "18                  Dean Lucas                     30   \n",
       "19                 Martin Maes                   3109   \n",
       "20                 Matt Walker                     64   \n",
       "21              Dakotah Norton                     24   \n",
       "22                Adam Brayton                     30   \n",
       "23              Thomas Estaque                      8   \n",
       "24                   Jack Moir                     28   \n",
       "\n",
       "    sentiment mean compound  mean of riders beat  \n",
       "0                  0.407624            88.375000  \n",
       "1                  0.277744            96.250000  \n",
       "2                  0.270613            95.375000  \n",
       "3                  0.407728            92.750000  \n",
       "4                  0.431275            82.875000  \n",
       "5                  0.235110            74.250000  \n",
       "6                  0.316566            82.875000  \n",
       "7                  0.303019            81.375000  \n",
       "8                  0.322464            97.625000  \n",
       "9                  0.354900            89.625000  \n",
       "10                 0.294034            88.166667  \n",
       "11                 0.269944            88.375000  \n",
       "12                 0.304876            84.375000  \n",
       "13                 0.138671            88.625000  \n",
       "14                 0.327178            83.125000  \n",
       "15                 0.484906            87.125000  \n",
       "16                -0.231079            86.625000  \n",
       "17                 0.363732            36.000000  \n",
       "18                 0.347763            74.500000  \n",
       "19                -0.075660            97.333333  \n",
       "20                 0.149459            52.750000  \n",
       "21                 0.022154            69.857143  \n",
       "22                 0.226210            73.000000  \n",
       "23                 0.302538            63.750000  \n",
       "24                 0.253546            73.800000  "
      ]
     },
     "metadata": {},
     "output_type": "display_data"
    }
   ],
   "source": [
    "def analyse_data(first_name, last_name, nick_name):\n",
    "    \n",
    "    full_name = first_name + \" \" + last_name\n",
    "    rider_filter = last_name\n",
    "\n",
    "    df_trans = df_result.loc[df_result['rider name'].str.contains(rider_filter, case = False)]\n",
    "    df_result['rider name'][df_result['rider name'].str.contains(rider_filter, case = False, regex = True)] = full_name\n",
    "\n",
    "    sr_result = df_result.set_index(\"rider name\")[\"mean of riders beat\"].to_dict()\n",
    "    \n",
    "    df_top_25_2018[\"mean of riders beat\"] = df_top_25_2018[\"rider name\"].map(sr_result)\n",
    "\n",
    "for rider in rider_top_25_2018:\n",
    "    analyse_data(rider[0],rider[1],rider[2])\n",
    "\n",
    "# Manuelles nachtragen der nicht gemappten Werte\n",
    "df_top_25_2018.at[[0, 1, 7, 15, 16, 18], 'mean of riders beat'] = [88.375, 96.25, 81.375, 87.125, 86.625, 74.5]\n",
    "    \n",
    "display(df_top_25_2018)"
   ]
  },
  {
   "cell_type": "code",
   "execution_count": 31,
   "id": "ac42ddc1",
   "metadata": {},
   "outputs": [
    {
     "name": "stdout",
     "output_type": "stream",
     "text": [
      "5928\n"
     ]
    }
   ],
   "source": [
    "sum_n = df_top_25_2018[\"sentiment sample size\"].sum()\n",
    "print(sum_n)"
   ]
  },
  {
   "cell_type": "code",
   "execution_count": 32,
   "id": "5d23d63c",
   "metadata": {},
   "outputs": [
    {
     "name": "stdout",
     "output_type": "stream",
     "text": [
      "-0.024541674469323427\n"
     ]
    }
   ],
   "source": [
    "corr_beat = df_top_25_2018[\"sentiment mean compound\"].corr(df_top_25_2018[\"mean of riders beat\"])\n",
    "print(corr_beat)"
   ]
  },
  {
   "cell_type": "code",
   "execution_count": 33,
   "id": "1058b11c",
   "metadata": {
    "scrolled": true
   },
   "outputs": [
    {
     "name": "stdout",
     "output_type": "stream",
     "text": [
      "0.28561917895596695\n"
     ]
    }
   ],
   "source": [
    "corr_size = df_top_25_2018[\"sentiment sample size\"].corr(df_top_25_2018[\"mean of riders beat\"])\n",
    "print(corr_size)"
   ]
  },
  {
   "cell_type": "code",
   "execution_count": 34,
   "id": "f4d3bf9e",
   "metadata": {
    "scrolled": true
   },
   "outputs": [
    {
     "name": "stdout",
     "output_type": "stream",
     "text": [
      "0.1593102457824846\n"
     ]
    }
   ],
   "source": [
    "std = df_top_25_2018[\"sentiment mean compound\"].std()\n",
    "print(std)"
   ]
  },
  {
   "cell_type": "code",
   "execution_count": 49,
   "id": "f075fede",
   "metadata": {},
   "outputs": [
    {
     "data": {
      "image/png": "[encoded data removed]",
      "text/plain": [
       "<Figure size 360x360 with 1 Axes>"
      ]
     },
     "metadata": {},
     "output_type": "display_data"
    }
   ],
   "source": [
    "sns.lmplot(x = \"sentiment mean compound\", y = \"mean of riders beat\", data = df_top_25_2018)\n",
    "\n",
    "# control x and y limits\n",
    "# plt.ylim(0, 100)\n",
    "plt.xlim(-1, 1)\n",
    " \n",
    "plt.show()"
   ]
  },
  {
   "cell_type": "code",
   "execution_count": 50,
   "id": "392f9342",
   "metadata": {},
   "outputs": [
    {
     "data": {
      "image/png": "[encoded data removed]",
      "text/plain": [
       "<Figure size 360x360 with 1 Axes>"
      ]
     },
     "metadata": {},
     "output_type": "display_data"
    }
   ],
   "source": [
    "sns.lmplot(x = \"sentiment sample size\", y = \"mean of riders beat\", data = df_top_25_2018)\n",
    "\n",
    "# control x and y limits\n",
    "plt.ylim(0, 100)\n",
    "plt.xlim(0, 500)\n",
    " \n",
    "plt.show()"
   ]
  }
 ],
 "metadata": {
  "interpreter": {
   "hash": "9a8aa609dc503cc1a3ce6f11d3ace15409672a615990c30b2d39795cea456467"
  },
  "kernelspec": {
   "display_name": "Python 3 (ipykernel)",
   "language": "python",
   "name": "python3"
  },
  "language_info": {
   "codemirror_mode": {
    "name": "ipython",
    "version": 3
   },
   "file_extension": ".py",
   "mimetype": "text/x-python",
   "name": "python",
   "nbconvert_exporter": "python",
   "pygments_lexer": "ipython3",
   "version": "3.8.2"
  }
 },
 "nbformat": 4,
 "nbformat_minor": 5
}
